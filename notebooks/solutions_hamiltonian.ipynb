{
 "cells": [
  {
   "cell_type": "markdown",
   "metadata": {},
   "source": [
    "# Preamble \n",
    "This contains all the extra stuff. If the environment doesn't contain the qutip and qutip_qip packages, make sure to install them before."
   ]
  },
  {
   "cell_type": "code",
   "execution_count": 1,
   "metadata": {},
   "outputs": [],
   "source": [
    "# configure some visualisations\n",
    "from pytket.circuit.display import get_circuit_renderer\n",
    "circuit_renderer = get_circuit_renderer()\n",
    "circuit_renderer.set_render_options(zx_style=False)\n",
    "circuit_renderer.set_render_options(crop_params=False)\n",
    "circuit_renderer.save_render_options()\n",
    "from pytket.utils import QubitPauliOperator\n",
    "from pytket.pauli import Pauli, QubitPauliString\n",
    "import networkx as nx\n",
    "from pytket.circuit import Qubit\n",
    "from pytket import Circuit\n",
    "from sympy import symbols\n",
    "from pytket.circuit.display import render_circuit_jupyter as draw\n",
    "from pytket.utils import gen_term_sequence_circuit\n",
    "from pytket.passes import DecomposeBoxes\n",
    "import numpy as np\n",
    "def get_xxz_chain_hamiltonian(n_qubits: int, Delta_ZZ: float) -> QubitPauliOperator:\n",
    "    sites = nx.path_graph(n_qubits)\n",
    "    qpo_dict = {}\n",
    "    for e in sites.edges:\n",
    "        zz_term = QubitPauliString([Qubit(e[0]), Qubit(e[1])], [Pauli.Z, Pauli.Z])\n",
    "        xx_term = QubitPauliString([Qubit(e[0]), Qubit(e[1])], [Pauli.X, Pauli.X])\n",
    "        yy_term = QubitPauliString([Qubit(e[0]), Qubit(e[1])], [Pauli.Y, Pauli.Y])\n",
    "        qpo_dict[zz_term] = Delta_ZZ\n",
    "        qpo_dict[xx_term] = 1.0\n",
    "        qpo_dict[yy_term] = 1.0\n",
    "    return QubitPauliOperator(qpo_dict)\n",
    "from pytket.extensions.qiskit import AerStateBackend \n",
    "import matplotlib.pyplot as plt\n",
    "import qutip as qt\n",
    "from qutip.qip.operations import hadamard_transform, phasegate\n",
    "import scipy\n",
    "#from matplotlib import pyplot as plt\n",
    "from pytket.utils.expectations import get_operator_expectation_value\n",
    "from pytket.extensions.qiskit import AerBackend\n",
    "import time\n",
    "\n",
    "aer_sim = AerBackend()"
   ]
  },
  {
   "cell_type": "markdown",
   "metadata": {},
   "source": [
    "# Section 0\n",
    "### <u> Task 1: Implement the time evolution under $XXZ$ Hamiltonian </u>\n",
    "\n",
    "Here we implement XXZ Hamiltonian in two ways. \n",
    "\n",
    "In the first implementation, we use the inbuilt function to create the circuit and run the simulation. \n",
    "\n",
    "In the second implementation, we build the circuit from scratch using XXPhase, YYPhase and ZZPhase gates\n"
   ]
  },
  {
   "cell_type": "markdown",
   "metadata": {},
   "source": [
    "##### Implementation 1 - Using built-in function"
   ]
  },
  {
   "cell_type": "code",
   "execution_count": 2,
   "metadata": {},
   "outputs": [
    {
     "data": {
      "text/html": [
       "\n",
       "\n",
       "\n",
       "\n",
       "\n",
       "\n",
       "<div style=\"resize: vertical; overflow: auto; height: 400px; display: block\">\n",
       "    <iframe srcdoc=\"\n",
       "&lt;!DOCTYPE html&gt;\n",
       "&lt;html lang=&#34;en&#34;&gt;\n",
       "&lt;head&gt;\n",
       "    &lt;meta charset=&#34;UTF-8&#34;&gt;\n",
       "    &lt;!-- Download Vue 3--&gt;\n",
       "&lt;script type=&#34;application/javascript&#34; src=&#34;https://cdn.jsdelivr.net/npm/vue@3&#34;&gt;&lt;/script&gt;\n",
       "&lt;!-- Download Circuit Renderer with styles --&gt;\n",
       "&lt;script type=&#34;application/javascript&#34; src=&#34;https://unpkg.com/pytket-circuit-renderer@0.10/dist/pytket-circuit-renderer.umd.js&#34;&gt;&lt;/script&gt;\n",
       "&lt;link rel=&#34;stylesheet&#34; href=&#34;https://unpkg.com/pytket-circuit-renderer@0.10/dist/pytket-circuit-renderer.css&#34;&gt;\n",
       "&lt;/head&gt;\n",
       "&lt;body&gt;\n",
       "\n",
       "\n",
       "    &lt;div id=&#34;circuit-display-vue-container-c6b06544-1acb-47ac-acac-dcbceaf26084&#34; class=&#34;pytket-circuit-display-container&#34;&gt;\n",
       "        &lt;div style=&#34;display: none&#34;&gt;\n",
       "            &lt;div id=&#34;circuit-json-to-display&#34;&gt;{&#34;bits&#34;: [], &#34;commands&#34;: [{&#34;args&#34;: [[&#34;q&#34;, [1]], [&#34;q&#34;, [0]]], &#34;op&#34;: {&#34;type&#34;: &#34;CX&#34;}}, {&#34;args&#34;: [[&#34;q&#34;, [3]], [&#34;q&#34;, [2]]], &#34;op&#34;: {&#34;type&#34;: &#34;CX&#34;}}, {&#34;args&#34;: [[&#34;q&#34;, [5]], [&#34;q&#34;, [4]]], &#34;op&#34;: {&#34;type&#34;: &#34;CX&#34;}}, {&#34;args&#34;: [[&#34;q&#34;, [7]], [&#34;q&#34;, [6]]], &#34;op&#34;: {&#34;type&#34;: &#34;CX&#34;}}, {&#34;args&#34;: [[&#34;q&#34;, [0]]], &#34;op&#34;: {&#34;params&#34;: [&#34;-0.318309886183791&#34;], &#34;type&#34;: &#34;Rz&#34;}}, {&#34;args&#34;: [[&#34;q&#34;, [2]]], &#34;op&#34;: {&#34;params&#34;: [&#34;-0.318309886183791&#34;], &#34;type&#34;: &#34;Rz&#34;}}, {&#34;args&#34;: [[&#34;q&#34;, [4]]], &#34;op&#34;: {&#34;params&#34;: [&#34;-0.318309886183791&#34;], &#34;type&#34;: &#34;Rz&#34;}}, {&#34;args&#34;: [[&#34;q&#34;, [6]]], &#34;op&#34;: {&#34;params&#34;: [&#34;-0.318309886183791&#34;], &#34;type&#34;: &#34;Rz&#34;}}, {&#34;args&#34;: [[&#34;q&#34;, [1]], [&#34;q&#34;, [0]]], &#34;op&#34;: {&#34;type&#34;: &#34;CX&#34;}}, {&#34;args&#34;: [[&#34;q&#34;, [3]], [&#34;q&#34;, [2]]], &#34;op&#34;: {&#34;type&#34;: &#34;CX&#34;}}, {&#34;args&#34;: [[&#34;q&#34;, [5]], [&#34;q&#34;, [4]]], &#34;op&#34;: {&#34;type&#34;: &#34;CX&#34;}}, {&#34;args&#34;: [[&#34;q&#34;, [7]], [&#34;q&#34;, [6]]], &#34;op&#34;: {&#34;type&#34;: &#34;CX&#34;}}, {&#34;args&#34;: [[&#34;q&#34;, [0]]], &#34;op&#34;: {&#34;type&#34;: &#34;H&#34;}}, {&#34;args&#34;: [[&#34;q&#34;, [1]]], &#34;op&#34;: {&#34;type&#34;: &#34;H&#34;}}, {&#34;args&#34;: [[&#34;q&#34;, [2]]], &#34;op&#34;: {&#34;type&#34;: &#34;H&#34;}}, {&#34;args&#34;: [[&#34;q&#34;, [3]]], &#34;op&#34;: {&#34;type&#34;: &#34;H&#34;}}, {&#34;args&#34;: [[&#34;q&#34;, [4]]], &#34;op&#34;: {&#34;type&#34;: &#34;H&#34;}}, {&#34;args&#34;: [[&#34;q&#34;, [5]]], &#34;op&#34;: {&#34;type&#34;: &#34;H&#34;}}, {&#34;args&#34;: [[&#34;q&#34;, [6]]], &#34;op&#34;: {&#34;type&#34;: &#34;H&#34;}}, {&#34;args&#34;: [[&#34;q&#34;, [7]]], &#34;op&#34;: {&#34;type&#34;: &#34;H&#34;}}, {&#34;args&#34;: [[&#34;q&#34;, [1]], [&#34;q&#34;, [0]]], &#34;op&#34;: {&#34;type&#34;: &#34;CX&#34;}}, {&#34;args&#34;: [[&#34;q&#34;, [3]], [&#34;q&#34;, [2]]], &#34;op&#34;: {&#34;type&#34;: &#34;CX&#34;}}, {&#34;args&#34;: [[&#34;q&#34;, [5]], [&#34;q&#34;, [4]]], &#34;op&#34;: {&#34;type&#34;: &#34;CX&#34;}}, {&#34;args&#34;: [[&#34;q&#34;, [7]], [&#34;q&#34;, [6]]], &#34;op&#34;: {&#34;type&#34;: &#34;CX&#34;}}, {&#34;args&#34;: [[&#34;q&#34;, [0]]], &#34;op&#34;: {&#34;params&#34;: [&#34;-0.636619772367581&#34;], &#34;type&#34;: &#34;Rz&#34;}}, {&#34;args&#34;: [[&#34;q&#34;, [2]]], &#34;op&#34;: {&#34;params&#34;: [&#34;-0.636619772367581&#34;], &#34;type&#34;: &#34;Rz&#34;}}, {&#34;args&#34;: [[&#34;q&#34;, [4]]], &#34;op&#34;: {&#34;params&#34;: [&#34;-0.636619772367581&#34;], &#34;type&#34;: &#34;Rz&#34;}}, {&#34;args&#34;: [[&#34;q&#34;, [6]]], &#34;op&#34;: {&#34;params&#34;: [&#34;-0.636619772367581&#34;], &#34;type&#34;: &#34;Rz&#34;}}, {&#34;args&#34;: [[&#34;q&#34;, [1]], [&#34;q&#34;, [0]]], &#34;op&#34;: {&#34;type&#34;: &#34;CX&#34;}}, {&#34;args&#34;: [[&#34;q&#34;, [3]], [&#34;q&#34;, [2]]], &#34;op&#34;: {&#34;type&#34;: &#34;CX&#34;}}, {&#34;args&#34;: [[&#34;q&#34;, [5]], [&#34;q&#34;, [4]]], &#34;op&#34;: {&#34;type&#34;: &#34;CX&#34;}}, {&#34;args&#34;: [[&#34;q&#34;, [7]], [&#34;q&#34;, [6]]], &#34;op&#34;: {&#34;type&#34;: &#34;CX&#34;}}, {&#34;args&#34;: [[&#34;q&#34;, [0]]], &#34;op&#34;: {&#34;type&#34;: &#34;H&#34;}}, {&#34;args&#34;: [[&#34;q&#34;, [1]]], &#34;op&#34;: {&#34;type&#34;: &#34;H&#34;}}, {&#34;args&#34;: [[&#34;q&#34;, [2]]], &#34;op&#34;: {&#34;type&#34;: &#34;H&#34;}}, {&#34;args&#34;: [[&#34;q&#34;, [3]]], &#34;op&#34;: {&#34;type&#34;: &#34;H&#34;}}, {&#34;args&#34;: [[&#34;q&#34;, [4]]], &#34;op&#34;: {&#34;type&#34;: &#34;H&#34;}}, {&#34;args&#34;: [[&#34;q&#34;, [5]]], &#34;op&#34;: {&#34;type&#34;: &#34;H&#34;}}, {&#34;args&#34;: [[&#34;q&#34;, [6]]], &#34;op&#34;: {&#34;type&#34;: &#34;H&#34;}}, {&#34;args&#34;: [[&#34;q&#34;, [7]]], &#34;op&#34;: {&#34;type&#34;: &#34;H&#34;}}, {&#34;args&#34;: [[&#34;q&#34;, [0]]], &#34;op&#34;: {&#34;type&#34;: &#34;V&#34;}}, {&#34;args&#34;: [[&#34;q&#34;, [1]]], &#34;op&#34;: {&#34;type&#34;: &#34;V&#34;}}, {&#34;args&#34;: [[&#34;q&#34;, [2]]], &#34;op&#34;: {&#34;type&#34;: &#34;V&#34;}}, {&#34;args&#34;: [[&#34;q&#34;, [3]]], &#34;op&#34;: {&#34;type&#34;: &#34;V&#34;}}, {&#34;args&#34;: [[&#34;q&#34;, [4]]], &#34;op&#34;: {&#34;type&#34;: &#34;V&#34;}}, {&#34;args&#34;: [[&#34;q&#34;, [5]]], &#34;op&#34;: {&#34;type&#34;: &#34;V&#34;}}, {&#34;args&#34;: [[&#34;q&#34;, [6]]], &#34;op&#34;: {&#34;type&#34;: &#34;V&#34;}}, {&#34;args&#34;: [[&#34;q&#34;, [7]]], &#34;op&#34;: {&#34;type&#34;: &#34;V&#34;}}, {&#34;args&#34;: [[&#34;q&#34;, [1]], [&#34;q&#34;, [0]]], &#34;op&#34;: {&#34;type&#34;: &#34;CX&#34;}}, {&#34;args&#34;: [[&#34;q&#34;, [3]], [&#34;q&#34;, [2]]], &#34;op&#34;: {&#34;type&#34;: &#34;CX&#34;}}, {&#34;args&#34;: [[&#34;q&#34;, [5]], [&#34;q&#34;, [4]]], &#34;op&#34;: {&#34;type&#34;: &#34;CX&#34;}}, {&#34;args&#34;: [[&#34;q&#34;, [7]], [&#34;q&#34;, [6]]], &#34;op&#34;: {&#34;type&#34;: &#34;CX&#34;}}, {&#34;args&#34;: [[&#34;q&#34;, [0]]], &#34;op&#34;: {&#34;params&#34;: [&#34;-0.636619772367581&#34;], &#34;type&#34;: &#34;Rz&#34;}}, {&#34;args&#34;: [[&#34;q&#34;, [2]]], &#34;op&#34;: {&#34;params&#34;: [&#34;-0.636619772367581&#34;], &#34;type&#34;: &#34;Rz&#34;}}, {&#34;args&#34;: [[&#34;q&#34;, [4]]], &#34;op&#34;: {&#34;params&#34;: [&#34;-0.636619772367581&#34;], &#34;type&#34;: &#34;Rz&#34;}}, {&#34;args&#34;: [[&#34;q&#34;, [6]]], &#34;op&#34;: {&#34;params&#34;: [&#34;-0.636619772367581&#34;], &#34;type&#34;: &#34;Rz&#34;}}, {&#34;args&#34;: [[&#34;q&#34;, [1]], [&#34;q&#34;, [0]]], &#34;op&#34;: {&#34;type&#34;: &#34;CX&#34;}}, {&#34;args&#34;: [[&#34;q&#34;, [3]], [&#34;q&#34;, [2]]], &#34;op&#34;: {&#34;type&#34;: &#34;CX&#34;}}, {&#34;args&#34;: [[&#34;q&#34;, [5]], [&#34;q&#34;, [4]]], &#34;op&#34;: {&#34;type&#34;: &#34;CX&#34;}}, {&#34;args&#34;: [[&#34;q&#34;, [7]], [&#34;q&#34;, [6]]], &#34;op&#34;: {&#34;type&#34;: &#34;CX&#34;}}, {&#34;args&#34;: [[&#34;q&#34;, [0]]], &#34;op&#34;: {&#34;type&#34;: &#34;Vdg&#34;}}, {&#34;args&#34;: [[&#34;q&#34;, [1]]], &#34;op&#34;: {&#34;type&#34;: &#34;Vdg&#34;}}, {&#34;args&#34;: [[&#34;q&#34;, [2]]], &#34;op&#34;: {&#34;type&#34;: &#34;Vdg&#34;}}, {&#34;args&#34;: [[&#34;q&#34;, [3]]], &#34;op&#34;: {&#34;type&#34;: &#34;Vdg&#34;}}, {&#34;args&#34;: [[&#34;q&#34;, [4]]], &#34;op&#34;: {&#34;type&#34;: &#34;Vdg&#34;}}, {&#34;args&#34;: [[&#34;q&#34;, [5]]], &#34;op&#34;: {&#34;type&#34;: &#34;Vdg&#34;}}, {&#34;args&#34;: [[&#34;q&#34;, [6]]], &#34;op&#34;: {&#34;type&#34;: &#34;Vdg&#34;}}, {&#34;args&#34;: [[&#34;q&#34;, [7]]], &#34;op&#34;: {&#34;type&#34;: &#34;Vdg&#34;}}, {&#34;args&#34;: [[&#34;q&#34;, [2]], [&#34;q&#34;, [1]]], &#34;op&#34;: {&#34;type&#34;: &#34;CX&#34;}}, {&#34;args&#34;: [[&#34;q&#34;, [4]], [&#34;q&#34;, [3]]], &#34;op&#34;: {&#34;type&#34;: &#34;CX&#34;}}, {&#34;args&#34;: [[&#34;q&#34;, [6]], [&#34;q&#34;, [5]]], &#34;op&#34;: {&#34;type&#34;: &#34;CX&#34;}}, {&#34;args&#34;: [[&#34;q&#34;, [1]]], &#34;op&#34;: {&#34;params&#34;: [&#34;-0.318309886183791&#34;], &#34;type&#34;: &#34;Rz&#34;}}, {&#34;args&#34;: [[&#34;q&#34;, [3]]], &#34;op&#34;: {&#34;params&#34;: [&#34;-0.318309886183791&#34;], &#34;type&#34;: &#34;Rz&#34;}}, {&#34;args&#34;: [[&#34;q&#34;, [5]]], &#34;op&#34;: {&#34;params&#34;: [&#34;-0.318309886183791&#34;], &#34;type&#34;: &#34;Rz&#34;}}, {&#34;args&#34;: [[&#34;q&#34;, [2]], [&#34;q&#34;, [1]]], &#34;op&#34;: {&#34;type&#34;: &#34;CX&#34;}}, {&#34;args&#34;: [[&#34;q&#34;, [4]], [&#34;q&#34;, [3]]], &#34;op&#34;: {&#34;type&#34;: &#34;CX&#34;}}, {&#34;args&#34;: [[&#34;q&#34;, [6]], [&#34;q&#34;, [5]]], &#34;op&#34;: {&#34;type&#34;: &#34;CX&#34;}}, {&#34;args&#34;: [[&#34;q&#34;, [1]]], &#34;op&#34;: {&#34;type&#34;: &#34;H&#34;}}, {&#34;args&#34;: [[&#34;q&#34;, [2]]], &#34;op&#34;: {&#34;type&#34;: &#34;H&#34;}}, {&#34;args&#34;: [[&#34;q&#34;, [3]]], &#34;op&#34;: {&#34;type&#34;: &#34;H&#34;}}, {&#34;args&#34;: [[&#34;q&#34;, [4]]], &#34;op&#34;: {&#34;type&#34;: &#34;H&#34;}}, {&#34;args&#34;: [[&#34;q&#34;, [5]]], &#34;op&#34;: {&#34;type&#34;: &#34;H&#34;}}, {&#34;args&#34;: [[&#34;q&#34;, [6]]], &#34;op&#34;: {&#34;type&#34;: &#34;H&#34;}}, {&#34;args&#34;: [[&#34;q&#34;, [2]], [&#34;q&#34;, [1]]], &#34;op&#34;: {&#34;type&#34;: &#34;CX&#34;}}, {&#34;args&#34;: [[&#34;q&#34;, [4]], [&#34;q&#34;, [3]]], &#34;op&#34;: {&#34;type&#34;: &#34;CX&#34;}}, {&#34;args&#34;: [[&#34;q&#34;, [6]], [&#34;q&#34;, [5]]], &#34;op&#34;: {&#34;type&#34;: &#34;CX&#34;}}, {&#34;args&#34;: [[&#34;q&#34;, [1]]], &#34;op&#34;: {&#34;params&#34;: [&#34;-0.636619772367581&#34;], &#34;type&#34;: &#34;Rz&#34;}}, {&#34;args&#34;: [[&#34;q&#34;, [3]]], &#34;op&#34;: {&#34;params&#34;: [&#34;-0.636619772367581&#34;], &#34;type&#34;: &#34;Rz&#34;}}, {&#34;args&#34;: [[&#34;q&#34;, [5]]], &#34;op&#34;: {&#34;params&#34;: [&#34;-0.636619772367581&#34;], &#34;type&#34;: &#34;Rz&#34;}}, {&#34;args&#34;: [[&#34;q&#34;, [2]], [&#34;q&#34;, [1]]], &#34;op&#34;: {&#34;type&#34;: &#34;CX&#34;}}, {&#34;args&#34;: [[&#34;q&#34;, [4]], [&#34;q&#34;, [3]]], &#34;op&#34;: {&#34;type&#34;: &#34;CX&#34;}}, {&#34;args&#34;: [[&#34;q&#34;, [6]], [&#34;q&#34;, [5]]], &#34;op&#34;: {&#34;type&#34;: &#34;CX&#34;}}, {&#34;args&#34;: [[&#34;q&#34;, [1]]], &#34;op&#34;: {&#34;type&#34;: &#34;H&#34;}}, {&#34;args&#34;: [[&#34;q&#34;, [2]]], &#34;op&#34;: {&#34;type&#34;: &#34;H&#34;}}, {&#34;args&#34;: [[&#34;q&#34;, [3]]], &#34;op&#34;: {&#34;type&#34;: &#34;H&#34;}}, {&#34;args&#34;: [[&#34;q&#34;, [4]]], &#34;op&#34;: {&#34;type&#34;: &#34;H&#34;}}, {&#34;args&#34;: [[&#34;q&#34;, [5]]], &#34;op&#34;: {&#34;type&#34;: &#34;H&#34;}}, {&#34;args&#34;: [[&#34;q&#34;, [6]]], &#34;op&#34;: {&#34;type&#34;: &#34;H&#34;}}, {&#34;args&#34;: [[&#34;q&#34;, [1]]], &#34;op&#34;: {&#34;type&#34;: &#34;V&#34;}}, {&#34;args&#34;: [[&#34;q&#34;, [2]]], &#34;op&#34;: {&#34;type&#34;: &#34;V&#34;}}, {&#34;args&#34;: [[&#34;q&#34;, [3]]], &#34;op&#34;: {&#34;type&#34;: &#34;V&#34;}}, {&#34;args&#34;: [[&#34;q&#34;, [4]]], &#34;op&#34;: {&#34;type&#34;: &#34;V&#34;}}, {&#34;args&#34;: [[&#34;q&#34;, [5]]], &#34;op&#34;: {&#34;type&#34;: &#34;V&#34;}}, {&#34;args&#34;: [[&#34;q&#34;, [6]]], &#34;op&#34;: {&#34;type&#34;: &#34;V&#34;}}, {&#34;args&#34;: [[&#34;q&#34;, [2]], [&#34;q&#34;, [1]]], &#34;op&#34;: {&#34;type&#34;: &#34;CX&#34;}}, {&#34;args&#34;: [[&#34;q&#34;, [4]], [&#34;q&#34;, [3]]], &#34;op&#34;: {&#34;type&#34;: &#34;CX&#34;}}, {&#34;args&#34;: [[&#34;q&#34;, [6]], [&#34;q&#34;, [5]]], &#34;op&#34;: {&#34;type&#34;: &#34;CX&#34;}}, {&#34;args&#34;: [[&#34;q&#34;, [1]]], &#34;op&#34;: {&#34;params&#34;: [&#34;-0.636619772367581&#34;], &#34;type&#34;: &#34;Rz&#34;}}, {&#34;args&#34;: [[&#34;q&#34;, [3]]], &#34;op&#34;: {&#34;params&#34;: [&#34;-0.636619772367581&#34;], &#34;type&#34;: &#34;Rz&#34;}}, {&#34;args&#34;: [[&#34;q&#34;, [5]]], &#34;op&#34;: {&#34;params&#34;: [&#34;-0.636619772367581&#34;], &#34;type&#34;: &#34;Rz&#34;}}, {&#34;args&#34;: [[&#34;q&#34;, [2]], [&#34;q&#34;, [1]]], &#34;op&#34;: {&#34;type&#34;: &#34;CX&#34;}}, {&#34;args&#34;: [[&#34;q&#34;, [4]], [&#34;q&#34;, [3]]], &#34;op&#34;: {&#34;type&#34;: &#34;CX&#34;}}, {&#34;args&#34;: [[&#34;q&#34;, [6]], [&#34;q&#34;, [5]]], &#34;op&#34;: {&#34;type&#34;: &#34;CX&#34;}}, {&#34;args&#34;: [[&#34;q&#34;, [1]]], &#34;op&#34;: {&#34;type&#34;: &#34;Vdg&#34;}}, {&#34;args&#34;: [[&#34;q&#34;, [2]]], &#34;op&#34;: {&#34;type&#34;: &#34;Vdg&#34;}}, {&#34;args&#34;: [[&#34;q&#34;, [3]]], &#34;op&#34;: {&#34;type&#34;: &#34;Vdg&#34;}}, {&#34;args&#34;: [[&#34;q&#34;, [4]]], &#34;op&#34;: {&#34;type&#34;: &#34;Vdg&#34;}}, {&#34;args&#34;: [[&#34;q&#34;, [5]]], &#34;op&#34;: {&#34;type&#34;: &#34;Vdg&#34;}}, {&#34;args&#34;: [[&#34;q&#34;, [6]]], &#34;op&#34;: {&#34;type&#34;: &#34;Vdg&#34;}}], &#34;created_qubits&#34;: [], &#34;discarded_qubits&#34;: [], &#34;implicit_permutation&#34;: [[[&#34;q&#34;, [0]], [&#34;q&#34;, [0]]], [[&#34;q&#34;, [1]], [&#34;q&#34;, [1]]], [[&#34;q&#34;, [2]], [&#34;q&#34;, [2]]], [[&#34;q&#34;, [3]], [&#34;q&#34;, [3]]], [[&#34;q&#34;, [4]], [&#34;q&#34;, [4]]], [[&#34;q&#34;, [5]], [&#34;q&#34;, [5]]], [[&#34;q&#34;, [6]], [&#34;q&#34;, [6]]], [[&#34;q&#34;, [7]], [&#34;q&#34;, [7]]]], &#34;phase&#34;: &#34;0.0&#34;, &#34;qubits&#34;: [[&#34;q&#34;, [0]], [&#34;q&#34;, [1]], [&#34;q&#34;, [2]], [&#34;q&#34;, [3]], [&#34;q&#34;, [4]], [&#34;q&#34;, [5]], [&#34;q&#34;, [6]], [&#34;q&#34;, [7]]]}&lt;/div&gt;\n",
       "        &lt;/div&gt;\n",
       "        &lt;circuit-display-container\n",
       "                :circuit-element-str=&#34;&#39;#circuit-json-to-display&#39;&#34;\n",
       "                :init-render-options=&#34;initRenderOptions&#34;\n",
       "                view-format=&#34;None&#34;\n",
       "        &gt;&lt;/circuit-display-container&gt;\n",
       "    &lt;/div&gt;\n",
       "    &lt;script type=&#34;application/javascript&#34;&gt;\n",
       "      const circuitRendererUid = &#34;c6b06544-1acb-47ac-acac-dcbceaf26084&#34;;\n",
       "      const displayOptions = JSON.parse(&#39;{&#34;zxStyle&#34;: false, &#34;cropParams&#34;: false}&#39;);\n",
       "\n",
       "      // Script to initialise the circuit renderer app\n",
       "\n",
       "const { createApp } = Vue;\n",
       "const circuitDisplayContainer = window[&#34;pytket-circuit-renderer&#34;].default;\n",
       "// Init variables to be shared between circuit display instances\n",
       "if (typeof window.pytketCircuitDisplays === &#34;undefined&#34;) {\n",
       "    window.pytketCircuitDisplays = {};\n",
       "}\n",
       "// Create the root Vue component\n",
       "const app = createApp({\n",
       "    delimiters: [&#39;[[#&#39;, &#39;#]]&#39;],\n",
       "    components: { circuitDisplayContainer },\n",
       "    data () {\n",
       "      return {\n",
       "        initRenderOptions: displayOptions,\n",
       "      }\n",
       "    }\n",
       "})\n",
       "app.config.unwrapInjectedRef = true;\n",
       "app.mount(&#34;#circuit-display-vue-container-&#34;+circuitRendererUid);\n",
       "window.pytketCircuitDisplays[circuitRendererUid] = app;\n",
       "    &lt;/script&gt;\n",
       "\n",
       "\n",
       "\n",
       "&lt;/body&gt;\n",
       "&lt;/html&gt;\n",
       "\"\n",
       "            width=\"100%\" height=\"100%\"\n",
       "            style=\"border: none; outline: none; overflow: auto\"></iframe>\n",
       "</div>\n",
       "\n"
      ],
      "text/plain": [
       "<IPython.core.display.HTML object>"
      ]
     },
     "metadata": {},
     "output_type": "display_data"
    }
   ],
   "source": [
    "n_qubits = 8\n",
    "Delta_ZZ = 0.5\n",
    "t = 1\n",
    "\n",
    "circ_0 = Circuit(n_qubits)\n",
    "xxz_ham = get_xxz_chain_hamiltonian(n_qubits=n_qubits, Delta_ZZ=Delta_ZZ)\n",
    "circ_xxz = gen_term_sequence_circuit(-(2*t/np.pi)*xxz_ham, circ_0)\n",
    "DecomposeBoxes().apply(circ_xxz)\n",
    "draw(circ_xxz)\n",
    "sv_backend = AerStateBackend()\n",
    "state = (circ_xxz)\n",
    "#result = sv_backend.run_circuit(state)\n",
    "#statevector = result.get_state()\n",
    "#print(\"Statevector: \", statevector)"
   ]
  },
  {
   "cell_type": "markdown",
   "metadata": {},
   "source": [
    "##### Implementation 2 - Using quantum gates from scratch"
   ]
  },
  {
   "cell_type": "code",
   "execution_count": 3,
   "metadata": {},
   "outputs": [
    {
     "data": {
      "text/html": [
       "\n",
       "\n",
       "\n",
       "\n",
       "\n",
       "\n",
       "<div style=\"resize: vertical; overflow: auto; height: 400px; display: block\">\n",
       "    <iframe srcdoc=\"\n",
       "&lt;!DOCTYPE html&gt;\n",
       "&lt;html lang=&#34;en&#34;&gt;\n",
       "&lt;head&gt;\n",
       "    &lt;meta charset=&#34;UTF-8&#34;&gt;\n",
       "    &lt;!-- Download Vue 3--&gt;\n",
       "&lt;script type=&#34;application/javascript&#34; src=&#34;https://cdn.jsdelivr.net/npm/vue@3&#34;&gt;&lt;/script&gt;\n",
       "&lt;!-- Download Circuit Renderer with styles --&gt;\n",
       "&lt;script type=&#34;application/javascript&#34; src=&#34;https://unpkg.com/pytket-circuit-renderer@0.10/dist/pytket-circuit-renderer.umd.js&#34;&gt;&lt;/script&gt;\n",
       "&lt;link rel=&#34;stylesheet&#34; href=&#34;https://unpkg.com/pytket-circuit-renderer@0.10/dist/pytket-circuit-renderer.css&#34;&gt;\n",
       "&lt;/head&gt;\n",
       "&lt;body&gt;\n",
       "\n",
       "\n",
       "    &lt;div id=&#34;circuit-display-vue-container-5c2c98a6-83ae-46c3-94ba-c99fabe876f2&#34; class=&#34;pytket-circuit-display-container&#34;&gt;\n",
       "        &lt;div style=&#34;display: none&#34;&gt;\n",
       "            &lt;div id=&#34;circuit-json-to-display&#34;&gt;{&#34;bits&#34;: [], &#34;commands&#34;: [{&#34;args&#34;: [[&#34;q&#34;, [0]], [&#34;q&#34;, [1]]], &#34;op&#34;: {&#34;params&#34;: [&#34;0.636619772367581&#34;], &#34;type&#34;: &#34;XXPhase&#34;}}, {&#34;args&#34;: [[&#34;q&#34;, [0]], [&#34;q&#34;, [1]]], &#34;op&#34;: {&#34;params&#34;: [&#34;0.636619772367581&#34;], &#34;type&#34;: &#34;YYPhase&#34;}}, {&#34;args&#34;: [[&#34;q&#34;, [0]], [&#34;q&#34;, [1]]], &#34;op&#34;: {&#34;params&#34;: [&#34;0.318309886183791&#34;], &#34;type&#34;: &#34;ZZPhase&#34;}}, {&#34;args&#34;: [[&#34;q&#34;, [1]], [&#34;q&#34;, [2]]], &#34;op&#34;: {&#34;params&#34;: [&#34;0.636619772367581&#34;], &#34;type&#34;: &#34;XXPhase&#34;}}, {&#34;args&#34;: [[&#34;q&#34;, [1]], [&#34;q&#34;, [2]]], &#34;op&#34;: {&#34;params&#34;: [&#34;0.636619772367581&#34;], &#34;type&#34;: &#34;YYPhase&#34;}}, {&#34;args&#34;: [[&#34;q&#34;, [1]], [&#34;q&#34;, [2]]], &#34;op&#34;: {&#34;params&#34;: [&#34;0.318309886183791&#34;], &#34;type&#34;: &#34;ZZPhase&#34;}}, {&#34;args&#34;: [[&#34;q&#34;, [2]], [&#34;q&#34;, [3]]], &#34;op&#34;: {&#34;params&#34;: [&#34;0.636619772367581&#34;], &#34;type&#34;: &#34;XXPhase&#34;}}, {&#34;args&#34;: [[&#34;q&#34;, [2]], [&#34;q&#34;, [3]]], &#34;op&#34;: {&#34;params&#34;: [&#34;0.636619772367581&#34;], &#34;type&#34;: &#34;YYPhase&#34;}}, {&#34;args&#34;: [[&#34;q&#34;, [2]], [&#34;q&#34;, [3]]], &#34;op&#34;: {&#34;params&#34;: [&#34;0.318309886183791&#34;], &#34;type&#34;: &#34;ZZPhase&#34;}}], &#34;created_qubits&#34;: [], &#34;discarded_qubits&#34;: [], &#34;implicit_permutation&#34;: [[[&#34;q&#34;, [0]], [&#34;q&#34;, [0]]], [[&#34;q&#34;, [1]], [&#34;q&#34;, [1]]], [[&#34;q&#34;, [2]], [&#34;q&#34;, [2]]], [[&#34;q&#34;, [3]], [&#34;q&#34;, [3]]]], &#34;phase&#34;: &#34;0.0&#34;, &#34;qubits&#34;: [[&#34;q&#34;, [0]], [&#34;q&#34;, [1]], [&#34;q&#34;, [2]], [&#34;q&#34;, [3]]]}&lt;/div&gt;\n",
       "        &lt;/div&gt;\n",
       "        &lt;circuit-display-container\n",
       "                :circuit-element-str=&#34;&#39;#circuit-json-to-display&#39;&#34;\n",
       "                :init-render-options=&#34;initRenderOptions&#34;\n",
       "                view-format=&#34;None&#34;\n",
       "        &gt;&lt;/circuit-display-container&gt;\n",
       "    &lt;/div&gt;\n",
       "    &lt;script type=&#34;application/javascript&#34;&gt;\n",
       "      const circuitRendererUid = &#34;5c2c98a6-83ae-46c3-94ba-c99fabe876f2&#34;;\n",
       "      const displayOptions = JSON.parse(&#39;{&#34;zxStyle&#34;: false, &#34;cropParams&#34;: false}&#39;);\n",
       "\n",
       "      // Script to initialise the circuit renderer app\n",
       "\n",
       "const { createApp } = Vue;\n",
       "const circuitDisplayContainer = window[&#34;pytket-circuit-renderer&#34;].default;\n",
       "// Init variables to be shared between circuit display instances\n",
       "if (typeof window.pytketCircuitDisplays === &#34;undefined&#34;) {\n",
       "    window.pytketCircuitDisplays = {};\n",
       "}\n",
       "// Create the root Vue component\n",
       "const app = createApp({\n",
       "    delimiters: [&#39;[[#&#39;, &#39;#]]&#39;],\n",
       "    components: { circuitDisplayContainer },\n",
       "    data () {\n",
       "      return {\n",
       "        initRenderOptions: displayOptions,\n",
       "      }\n",
       "    }\n",
       "})\n",
       "app.config.unwrapInjectedRef = true;\n",
       "app.mount(&#34;#circuit-display-vue-container-&#34;+circuitRendererUid);\n",
       "window.pytketCircuitDisplays[circuitRendererUid] = app;\n",
       "    &lt;/script&gt;\n",
       "\n",
       "\n",
       "\n",
       "&lt;/body&gt;\n",
       "&lt;/html&gt;\n",
       "\"\n",
       "            width=\"100%\" height=\"100%\"\n",
       "            style=\"border: none; outline: none; overflow: auto\"></iframe>\n",
       "</div>\n",
       "\n"
      ],
      "text/plain": [
       "<IPython.core.display.HTML object>"
      ]
     },
     "metadata": {},
     "output_type": "display_data"
    },
    {
     "name": "stdout",
     "output_type": "stream",
     "text": [
      "Statevector:  [ 7.07372017e-02-9.97494987e-01j  0.00000000e+00+0.00000000e+00j\n",
      "  0.00000000e+00+0.00000000e+00j  4.87156183e-17-2.66134636e-17j\n",
      "  0.00000000e+00+0.00000000e+00j -1.54074396e-33+2.52380735e-17j\n",
      "  1.15503950e-17-7.70371978e-34j  0.00000000e+00+0.00000000e+00j\n",
      "  0.00000000e+00+0.00000000e+00j  0.00000000e+00+0.00000000e+00j\n",
      "  0.00000000e+00+0.00000000e+00j  0.00000000e+00+0.00000000e+00j\n",
      "  0.00000000e+00+0.00000000e+00j  0.00000000e+00+0.00000000e+00j\n",
      "  0.00000000e+00+0.00000000e+00j  0.00000000e+00+0.00000000e+00j]\n"
     ]
    }
   ],
   "source": [
    "n_qubits = 4\n",
    "Delta_ZZ = 0.5\n",
    "t = 1\n",
    "circ_0 = Circuit(n_qubits)\n",
    "\n",
    "for ind in range(n_qubits-1):\n",
    "    circ_0.XXPhase(t*2/np.pi, ind, ind+1)\n",
    "    circ_0.YYPhase(t*2/np.pi, ind, ind+1)\n",
    "    circ_0.ZZPhase(Delta_ZZ*t*2/np.pi, ind, ind+1)\n",
    "\n",
    "DecomposeBoxes().apply(circ_0)\n",
    "draw(circ_0)\n",
    "sv_backend = AerStateBackend()\n",
    "state = (circ_0)\n",
    "result = sv_backend.run_circuit(state)\n",
    "statevector = result.get_state()\n",
    "print(\"Statevector: \", statevector)"
   ]
  },
  {
   "cell_type": "markdown",
   "metadata": {},
   "source": [
    "# Section 1\n",
    "### <u> Task 1: Implement the transverse field Ising model </u>\n",
    "\n",
    "Here we give a general implementation of the required hamiltonian for first order trotterization. Specifically, we choose the parameters such that our Hamiltonian is as follows:\n",
    "\n",
    "$$\n",
    "\\begin{align*}\n",
    "H = &-1.2(Z_1Z_2 + Z_2Z_3 + Z_3Z_4 + Z_4Z_5 + Z_5Z_6) \\\\\n",
    "&+ X_1 + X_2 + X_3 + X_4 + X_5 + X_6 \n",
    "\\end{align*}$$\n",
    "\n",
    "From here onwards, we will in general implement evolution for $t=1$ for convenience but will always have option to change this parameter."
   ]
  },
  {
   "cell_type": "code",
   "execution_count": 4,
   "metadata": {},
   "outputs": [
    {
     "data": {
      "text/html": [
       "\n",
       "\n",
       "\n",
       "\n",
       "\n",
       "\n",
       "<div style=\"resize: vertical; overflow: auto; height: 400px; display: block\">\n",
       "    <iframe srcdoc=\"\n",
       "&lt;!DOCTYPE html&gt;\n",
       "&lt;html lang=&#34;en&#34;&gt;\n",
       "&lt;head&gt;\n",
       "    &lt;meta charset=&#34;UTF-8&#34;&gt;\n",
       "    &lt;!-- Download Vue 3--&gt;\n",
       "&lt;script type=&#34;application/javascript&#34; src=&#34;https://cdn.jsdelivr.net/npm/vue@3&#34;&gt;&lt;/script&gt;\n",
       "&lt;!-- Download Circuit Renderer with styles --&gt;\n",
       "&lt;script type=&#34;application/javascript&#34; src=&#34;https://unpkg.com/pytket-circuit-renderer@0.10/dist/pytket-circuit-renderer.umd.js&#34;&gt;&lt;/script&gt;\n",
       "&lt;link rel=&#34;stylesheet&#34; href=&#34;https://unpkg.com/pytket-circuit-renderer@0.10/dist/pytket-circuit-renderer.css&#34;&gt;\n",
       "&lt;/head&gt;\n",
       "&lt;body&gt;\n",
       "\n",
       "\n",
       "    &lt;div id=&#34;circuit-display-vue-container-7e08409c-4921-41e4-9d87-38b87be83e49&#34; class=&#34;pytket-circuit-display-container&#34;&gt;\n",
       "        &lt;div style=&#34;display: none&#34;&gt;\n",
       "            &lt;div id=&#34;circuit-json-to-display&#34;&gt;{&#34;bits&#34;: [], &#34;commands&#34;: [{&#34;args&#34;: [[&#34;q&#34;, [0]]], &#34;op&#34;: {&#34;params&#34;: [&#34;0.318309886183791&#34;], &#34;type&#34;: &#34;Rx&#34;}}, {&#34;args&#34;: [[&#34;q&#34;, [1]]], &#34;op&#34;: {&#34;params&#34;: [&#34;0.318309886183791&#34;], &#34;type&#34;: &#34;Rx&#34;}}, {&#34;args&#34;: [[&#34;q&#34;, [2]]], &#34;op&#34;: {&#34;params&#34;: [&#34;0.318309886183791&#34;], &#34;type&#34;: &#34;Rx&#34;}}, {&#34;args&#34;: [[&#34;q&#34;, [3]]], &#34;op&#34;: {&#34;params&#34;: [&#34;0.318309886183791&#34;], &#34;type&#34;: &#34;Rx&#34;}}, {&#34;args&#34;: [[&#34;q&#34;, [4]]], &#34;op&#34;: {&#34;params&#34;: [&#34;0.318309886183791&#34;], &#34;type&#34;: &#34;Rx&#34;}}, {&#34;args&#34;: [[&#34;q&#34;, [5]]], &#34;op&#34;: {&#34;params&#34;: [&#34;0.318309886183791&#34;], &#34;type&#34;: &#34;Rx&#34;}}, {&#34;args&#34;: [[&#34;q&#34;, [0]], [&#34;q&#34;, [1]]], &#34;op&#34;: {&#34;params&#34;: [&#34;-0.381971863420549&#34;], &#34;type&#34;: &#34;ZZPhase&#34;}}, {&#34;args&#34;: [[&#34;q&#34;, [1]], [&#34;q&#34;, [2]]], &#34;op&#34;: {&#34;params&#34;: [&#34;-0.381971863420549&#34;], &#34;type&#34;: &#34;ZZPhase&#34;}}, {&#34;args&#34;: [[&#34;q&#34;, [2]], [&#34;q&#34;, [3]]], &#34;op&#34;: {&#34;params&#34;: [&#34;-0.381971863420549&#34;], &#34;type&#34;: &#34;ZZPhase&#34;}}, {&#34;args&#34;: [[&#34;q&#34;, [3]], [&#34;q&#34;, [4]]], &#34;op&#34;: {&#34;params&#34;: [&#34;-0.381971863420549&#34;], &#34;type&#34;: &#34;ZZPhase&#34;}}, {&#34;args&#34;: [[&#34;q&#34;, [4]], [&#34;q&#34;, [5]]], &#34;op&#34;: {&#34;params&#34;: [&#34;-0.381971863420549&#34;], &#34;type&#34;: &#34;ZZPhase&#34;}}, {&#34;args&#34;: [[&#34;q&#34;, [0]], [&#34;q&#34;, [1]], [&#34;q&#34;, [2]], [&#34;q&#34;, [3]], [&#34;q&#34;, [4]], [&#34;q&#34;, [5]]], &#34;op&#34;: {&#34;data&#34;: &#34;&#34;, &#34;signature&#34;: [&#34;Q&#34;, &#34;Q&#34;, &#34;Q&#34;, &#34;Q&#34;, &#34;Q&#34;, &#34;Q&#34;], &#34;type&#34;: &#34;Barrier&#34;}}, {&#34;args&#34;: [[&#34;q&#34;, [0]]], &#34;op&#34;: {&#34;params&#34;: [&#34;0.318309886183791&#34;], &#34;type&#34;: &#34;Rx&#34;}}, {&#34;args&#34;: [[&#34;q&#34;, [1]]], &#34;op&#34;: {&#34;params&#34;: [&#34;0.318309886183791&#34;], &#34;type&#34;: &#34;Rx&#34;}}, {&#34;args&#34;: [[&#34;q&#34;, [2]]], &#34;op&#34;: {&#34;params&#34;: [&#34;0.318309886183791&#34;], &#34;type&#34;: &#34;Rx&#34;}}, {&#34;args&#34;: [[&#34;q&#34;, [3]]], &#34;op&#34;: {&#34;params&#34;: [&#34;0.318309886183791&#34;], &#34;type&#34;: &#34;Rx&#34;}}, {&#34;args&#34;: [[&#34;q&#34;, [4]]], &#34;op&#34;: {&#34;params&#34;: [&#34;0.318309886183791&#34;], &#34;type&#34;: &#34;Rx&#34;}}, {&#34;args&#34;: [[&#34;q&#34;, [5]]], &#34;op&#34;: {&#34;params&#34;: [&#34;0.318309886183791&#34;], &#34;type&#34;: &#34;Rx&#34;}}, {&#34;args&#34;: [[&#34;q&#34;, [0]], [&#34;q&#34;, [1]]], &#34;op&#34;: {&#34;params&#34;: [&#34;-0.381971863420549&#34;], &#34;type&#34;: &#34;ZZPhase&#34;}}, {&#34;args&#34;: [[&#34;q&#34;, [1]], [&#34;q&#34;, [2]]], &#34;op&#34;: {&#34;params&#34;: [&#34;-0.381971863420549&#34;], &#34;type&#34;: &#34;ZZPhase&#34;}}, {&#34;args&#34;: [[&#34;q&#34;, [2]], [&#34;q&#34;, [3]]], &#34;op&#34;: {&#34;params&#34;: [&#34;-0.381971863420549&#34;], &#34;type&#34;: &#34;ZZPhase&#34;}}, {&#34;args&#34;: [[&#34;q&#34;, [3]], [&#34;q&#34;, [4]]], &#34;op&#34;: {&#34;params&#34;: [&#34;-0.381971863420549&#34;], &#34;type&#34;: &#34;ZZPhase&#34;}}, {&#34;args&#34;: [[&#34;q&#34;, [4]], [&#34;q&#34;, [5]]], &#34;op&#34;: {&#34;params&#34;: [&#34;-0.381971863420549&#34;], &#34;type&#34;: &#34;ZZPhase&#34;}}, {&#34;args&#34;: [[&#34;q&#34;, [0]], [&#34;q&#34;, [1]], [&#34;q&#34;, [2]], [&#34;q&#34;, [3]], [&#34;q&#34;, [4]], [&#34;q&#34;, [5]]], &#34;op&#34;: {&#34;data&#34;: &#34;&#34;, &#34;signature&#34;: [&#34;Q&#34;, &#34;Q&#34;, &#34;Q&#34;, &#34;Q&#34;, &#34;Q&#34;, &#34;Q&#34;], &#34;type&#34;: &#34;Barrier&#34;}}], &#34;created_qubits&#34;: [], &#34;discarded_qubits&#34;: [], &#34;implicit_permutation&#34;: [[[&#34;q&#34;, [0]], [&#34;q&#34;, [0]]], [[&#34;q&#34;, [1]], [&#34;q&#34;, [1]]], [[&#34;q&#34;, [2]], [&#34;q&#34;, [2]]], [[&#34;q&#34;, [3]], [&#34;q&#34;, [3]]], [[&#34;q&#34;, [4]], [&#34;q&#34;, [4]]], [[&#34;q&#34;, [5]], [&#34;q&#34;, [5]]]], &#34;phase&#34;: &#34;0.0&#34;, &#34;qubits&#34;: [[&#34;q&#34;, [0]], [&#34;q&#34;, [1]], [&#34;q&#34;, [2]], [&#34;q&#34;, [3]], [&#34;q&#34;, [4]], [&#34;q&#34;, [5]]]}&lt;/div&gt;\n",
       "        &lt;/div&gt;\n",
       "        &lt;circuit-display-container\n",
       "                :circuit-element-str=&#34;&#39;#circuit-json-to-display&#39;&#34;\n",
       "                :init-render-options=&#34;initRenderOptions&#34;\n",
       "                view-format=&#34;None&#34;\n",
       "        &gt;&lt;/circuit-display-container&gt;\n",
       "    &lt;/div&gt;\n",
       "    &lt;script type=&#34;application/javascript&#34;&gt;\n",
       "      const circuitRendererUid = &#34;7e08409c-4921-41e4-9d87-38b87be83e49&#34;;\n",
       "      const displayOptions = JSON.parse(&#39;{&#34;zxStyle&#34;: false, &#34;cropParams&#34;: false}&#39;);\n",
       "\n",
       "      // Script to initialise the circuit renderer app\n",
       "\n",
       "const { createApp } = Vue;\n",
       "const circuitDisplayContainer = window[&#34;pytket-circuit-renderer&#34;].default;\n",
       "// Init variables to be shared between circuit display instances\n",
       "if (typeof window.pytketCircuitDisplays === &#34;undefined&#34;) {\n",
       "    window.pytketCircuitDisplays = {};\n",
       "}\n",
       "// Create the root Vue component\n",
       "const app = createApp({\n",
       "    delimiters: [&#39;[[#&#39;, &#39;#]]&#39;],\n",
       "    components: { circuitDisplayContainer },\n",
       "    data () {\n",
       "      return {\n",
       "        initRenderOptions: displayOptions,\n",
       "      }\n",
       "    }\n",
       "})\n",
       "app.config.unwrapInjectedRef = true;\n",
       "app.mount(&#34;#circuit-display-vue-container-&#34;+circuitRendererUid);\n",
       "window.pytketCircuitDisplays[circuitRendererUid] = app;\n",
       "    &lt;/script&gt;\n",
       "\n",
       "\n",
       "\n",
       "&lt;/body&gt;\n",
       "&lt;/html&gt;\n",
       "\"\n",
       "            width=\"100%\" height=\"100%\"\n",
       "            style=\"border: none; outline: none; overflow: auto\"></iframe>\n",
       "</div>\n",
       "\n"
      ],
      "text/plain": [
       "<IPython.core.display.HTML object>"
      ]
     },
     "metadata": {},
     "output_type": "display_data"
    },
    {
     "name": "stdout",
     "output_type": "stream",
     "text": [
      "Statevector:  [ 0.31057071+0.21051255j -0.2811643 -0.07069088j -0.0550807 +0.02363152j\n",
      "  0.09311398+0.20440928j -0.10291127+0.09354526j  0.02995425-0.01581208j\n",
      "  0.0017115 -0.11372609j  0.05947046-0.15934178j -0.10291127+0.09354526j\n",
      "  0.06940928-0.1172964j   0.0373031 -0.04325709j -0.04929002+0.00741378j\n",
      "  0.1105957 -0.0392344j  -0.00145946+0.07732752j -0.12043168-0.0060627j\n",
      " -0.14065638+0.02474057j -0.0550807 +0.02363152j  0.02995425-0.01581208j\n",
      " -0.01301329+0.01167261j -0.04929002+0.00741378j  0.0373031 -0.04325709j\n",
      " -0.00739575+0.05188304j -0.02591572-0.01551738j -0.02790875+0.0190934j\n",
      "  0.0017115 -0.11372609j -0.00145946+0.07732752j -0.02591572-0.01551738j\n",
      "  0.01154628-0.08239092j -0.12043168-0.0060627j   0.08097545-0.05539828j\n",
      "  0.03001294+0.05539828j  0.08501127+0.01983343j -0.2811643 -0.07069088j\n",
      "  0.22425801-0.01271658j  0.02995425-0.01581208j -0.12696318-0.11316752j\n",
      "  0.06940928-0.1172964j  -0.01095069+0.04862667j -0.00145946+0.07732752j\n",
      " -0.02790875+0.14006218j  0.02995425-0.01581208j -0.01095069+0.04862667j\n",
      " -0.00739575+0.05188304j  0.00768285+0.03293069j -0.00145946+0.07732752j\n",
      " -0.07260767-0.04061658j  0.08097545-0.05539828j  0.04929002-0.07204703j\n",
      "  0.09311398+0.20440928j -0.12696318-0.11316752j -0.04929002+0.00741378j\n",
      " -0.02790875+0.14006218j -0.04929002+0.00741378j  0.00768285+0.03293069j\n",
      "  0.01154628-0.08239092j  0.04929002-0.07204703j  0.05947046-0.15934178j\n",
      " -0.02790875+0.14006218j -0.02790875+0.0190934j   0.04929002-0.07204703j\n",
      " -0.14065638+0.02474057j  0.04929002-0.07204703j  0.08501127+0.01983343j\n",
      "  0.13459214-0.01918564j]\n"
     ]
    }
   ],
   "source": [
    "g = 1\n",
    "J = 1.2\n",
    "N = 6 #Number of qubits\n",
    "t = 1 #Time for which you want to evolve\n",
    "h = 2 #Number of trotter Steps\n",
    "ising_circuit = Circuit(N)\n",
    "for i in range(h):\n",
    "    for i in range(N):\n",
    "        ising_circuit.Rx(2*t*g/(np.pi*h), i)\n",
    "    for i in range(N-1):\n",
    "        ising_circuit.ZZPhase(-2*J/(np.pi*h), i, i+1)\n",
    "    ising_circuit.add_barrier(ising_circuit.qubits)\n",
    "draw(ising_circuit)    \n",
    "\n",
    "sv_backend = AerStateBackend()\n",
    "state = (ising_circuit)\n",
    "result = sv_backend.run_circuit(state)\n",
    "statevector = result.get_state()\n",
    "print(\"Statevector: \", statevector)"
   ]
  },
  {
   "cell_type": "markdown",
   "metadata": {},
   "source": [
    "### <u> Task 2: Trotter error scaling and higher order Trotterization formulas </u>"
   ]
  },
  {
   "cell_type": "markdown",
   "metadata": {},
   "source": [
    "To get the correct, ideal solution, we make use of qutip and implement classical Simulation by doing explicit matrix-vector multiplication "
   ]
  },
  {
   "cell_type": "code",
   "execution_count": 5,
   "metadata": {},
   "outputs": [],
   "source": [
    "#defining useful functions to get operators from strings\n",
    "I,X,Y,Z,Had,S = qt.qeye(2),qt.sigmax(),qt.sigmay(),qt.sigmaz(),hadamard_transform(),phasegate(np.pi/2)\n",
    "ket0,ket1=qt.basis(2,0),qt.basis(2,1)\n",
    "def str2op(string):\n",
    "    op_dict = {'I':I,'X':X,'Y':Y,'Z':Z,'H':Had,'S':S}\n",
    "    assert type(string) == str or type(string) == list\n",
    "    return qt.tensor([op_dict[p] for p in string])"
   ]
  },
  {
   "cell_type": "markdown",
   "metadata": {},
   "source": [
    "Now, we will construct the hamiltonian matrix from the operator string. Then we start in state $|0\\rangle$ and multiply this matrix by doing the appropriate exponentiation of the hamiltonian for time evolution and get the state $|\\psi(t)\\rangle  = e^{-iHt} |0\\rangle$"
   ]
  },
  {
   "cell_type": "code",
   "execution_count": 6,
   "metadata": {},
   "outputs": [],
   "source": [
    "H = -J*(str2op('ZZIIII')\n",
    "       +str2op('IZZIII')\n",
    "       +str2op('IIZZII')\n",
    "       +str2op('IIIZZI')\n",
    "       +str2op('IIIIZZ'))+g*(str2op('XIIIII')\n",
    "       +str2op('IXIIII')\n",
    "       +str2op('IIXIII')\n",
    "       +str2op('IIIXII')\n",
    "       +str2op('IIIIXI')\n",
    "       +str2op('IIIIIX'))\n",
    "Psi_0 = qt.tensor([ket0]*N)\n",
    "H = H.full()\n",
    "Psi_0 = Psi_0.full()\n",
    "U = scipy.linalg.expm(-1j * H * t)\n",
    "Psi_t = U @ Psi_0"
   ]
  },
  {
   "cell_type": "markdown",
   "metadata": {},
   "source": [
    "Now, we implement 2nd order trotterization. Then we do trotter steps of size 1 to 30 and see the fidelity with the ideal evolution. For the obtained state $|\\phi_t\\rangle$ for trotter step size $t$ of 2nd order trotterized hamiltonian simulation implementation, we compute $|\\langle \\phi_t | \\psi(t) |^2$"
   ]
  },
  {
   "cell_type": "code",
   "execution_count": 7,
   "metadata": {},
   "outputs": [],
   "source": [
    "n_trotter_steps = list(range(1, 30))\n",
    "StateVectors = []\n",
    "\n",
    "for h in n_trotter_steps:\n",
    "    ising_circuit = Circuit(N)\n",
    "    for j in range(h):\n",
    "        for i in range(N):\n",
    "            ising_circuit.Rx((2*t*g)/(2*h*np.pi), i)\n",
    "        for i in range(N-1):\n",
    "            ising_circuit.ZZPhase((-2*J)/(np.pi*h), i, i+1)\n",
    "        ising_circuit.add_barrier(ising_circuit.qubits)\n",
    "        for i in range(N):\n",
    "            ising_circuit.Rx((2*t*g)/(2*h*np.pi), i)\n",
    "        ising_circuit.add_barrier(ising_circuit.qubits)\n",
    "    #draw(ising_circuit)    \n",
    "    sv_backend = AerStateBackend()\n",
    "    state = (ising_circuit)\n",
    "    result = sv_backend.run_circuit(state)\n",
    "    statevector = result.get_state()\n",
    "    StateVectors.append(statevector)"
   ]
  },
  {
   "cell_type": "code",
   "execution_count": 8,
   "metadata": {},
   "outputs": [
    {
     "data": {
      "text/plain": [
       "Text(0, 0.5, 'Fidelity')"
      ]
     },
     "execution_count": 8,
     "metadata": {},
     "output_type": "execute_result"
    },
    {
     "data": {
      "image/png": "[encoded data removed]",
      "text/plain": [
       "<Figure size 640x480 with 1 Axes>"
      ]
     },
     "metadata": {},
     "output_type": "display_data"
    }
   ],
   "source": [
    "distance = []\n",
    "for i in StateVectors:\n",
    "    dist = np.squeeze(Psi_t) @ np.conj(i).T\n",
    "    distance.append(np.abs(dist)**2)\n",
    "plt.loglog(n_trotter_steps, distance)\n",
    "plt.title(\"Trotterization for Ising model\")\n",
    "plt.xlabel(\"Number of Trotter steps\")\n",
    "plt.ylabel(\"Fidelity\")"
   ]
  },
  {
   "cell_type": "markdown",
   "metadata": {},
   "source": [
    "This is the required double log plot. We can observe that as we increase trotter step size, your fidelity improves. Distance with ideal evolution increases monotonically w.r.t. trotter step size. We can see that from the raw data below as well. In the limit $t \\to \\infty$, We should obtain fidelity 1."
   ]
  },
  {
   "cell_type": "code",
   "execution_count": 9,
   "metadata": {},
   "outputs": [
    {
     "data": {
      "text/plain": [
       "[0.13778361113652876,\n",
       " 0.9118150026001597,\n",
       " 0.9832220377501141,\n",
       " 0.9948162193047735,\n",
       " 0.9979033834113475,\n",
       " 0.9989962180812939,\n",
       " 0.9994606221630467,\n",
       " 0.9996847672380144,\n",
       " 0.9998036078759959,\n",
       " 0.9998713388641619,\n",
       " 0.9999122200176414,\n",
       " 0.9999380738914323,\n",
       " 0.99995506978426,\n",
       " 0.9999666134456493,\n",
       " 0.9999746758851982,\n",
       " 0.9999804445327417,\n",
       " 0.9999846599425601,\n",
       " 0.9999877981015939,\n",
       " 0.9999901731603322,\n",
       " 0.9999919973814291,\n",
       " 0.9999934172202205,\n",
       " 0.9999945356451448,\n",
       " 0.9999954262900218,\n",
       " 0.9999961426290985,\n",
       " 0.999996724045576,\n",
       " 0.9999971999205594,\n",
       " 0.9999975924337041,\n",
       " 0.9999979185117585,\n",
       " 0.9999981912038757]"
      ]
     },
     "execution_count": 9,
     "metadata": {},
     "output_type": "execute_result"
    }
   ],
   "source": [
    "distance"
   ]
  },
  {
   "cell_type": "markdown",
   "metadata": {},
   "source": [
    "### <u> Task 3: Do the same for the XXZ model </u>"
   ]
  },
  {
   "cell_type": "markdown",
   "metadata": {},
   "source": [
    "We do implemente it for the XXZ model. When we initalize in state $|0\\rangle$, we get fidelity 1 with the ideal evolution, which remains constant regardless of the step size. However, when we change it to some different state, whatever fidelity we get still remains a constant less than one regardless of change in trotterization step size."
   ]
  },
  {
   "cell_type": "code",
   "execution_count": 10,
   "metadata": {},
   "outputs": [],
   "source": [
    "H = (str2op('XXIIII')\n",
    "     +str2op('IXXIII')\n",
    "    +str2op('IIXXII')\n",
    "    +str2op('IIIXXI')\n",
    "    +str2op('IIIIXX')\n",
    "    +str2op('YYIIII')\n",
    "    +str2op('IYYIII')\n",
    "    +str2op('IIYYII')\n",
    "    +str2op('IIIYYI')\n",
    "    +str2op('IIIIYY'))+Delta_ZZ*(\n",
    "    str2op('ZZIIII')\n",
    "    +str2op('IZZIII')\n",
    "    +str2op('IIZZII')\n",
    "    +str2op('IIIZZI')\n",
    "    +str2op('IIIIZZ')\n",
    "    )\n",
    "Psi_0 = qt.tensor([ket0]*N)\n",
    "H = H.full()\n",
    "Psi_0 = Psi_0.full()\n",
    "U = scipy.linalg.expm(-1j * H * t)\n",
    "Psi_t = U @ Psi_0"
   ]
  },
  {
   "cell_type": "code",
   "execution_count": 11,
   "metadata": {},
   "outputs": [],
   "source": [
    "n_trotter_steps = list(range(1, 30))\n",
    "StateVectors = []\n",
    "\n",
    "for h in n_trotter_steps:\n",
    "    ising_circuit = Circuit(N)\n",
    "    for i in range(h):\n",
    "        for ind in range(n_qubits-1):\n",
    "            circ_0.XXPhase(t*2/(2*np.pi*h), ind, ind+1)\n",
    "            circ_0.YYPhase(t*2/(2*np.pi*h), ind, ind+1)\n",
    "            circ_0.ZZPhase(Delta_ZZ*t*2/(h*np.pi), ind, ind+1)\n",
    "            circ_0.YYPhase(t*2/(2*np.pi*h), ind, ind+1)\n",
    "            circ_0.XXPhase(t*2/(2*np.pi*h), ind, ind+1)\n",
    "        #DecomposeBoxes().apply(circ_0)\n",
    "        # draw(circ_0)\n",
    "    sv_backend = AerStateBackend()\n",
    "    state = (ising_circuit)\n",
    "    result = sv_backend.run_circuit(state)\n",
    "    statevector = result.get_state()\n",
    "    StateVectors.append(statevector)"
   ]
  },
  {
   "cell_type": "code",
   "execution_count": 12,
   "metadata": {},
   "outputs": [
    {
     "data": {
      "text/plain": [
       "Text(0, 0.5, 'Fidelity')"
      ]
     },
     "execution_count": 12,
     "metadata": {},
     "output_type": "execute_result"
    },
    {
     "data": {
      "image/png": "[encoded data removed]",
      "text/plain": [
       "<Figure size 640x480 with 1 Axes>"
      ]
     },
     "metadata": {},
     "output_type": "display_data"
    }
   ],
   "source": [
    "distance = []\n",
    "for i in StateVectors:\n",
    "    dist = np.squeeze(Psi_t) @ np.conj(i).T\n",
    "    distance.append(np.abs(dist)**2)\n",
    "plt.loglog(n_trotter_steps, distance)\n",
    "plt.title(\"Trotterization for XXZ model - start from 0 state\")\n",
    "plt.xlabel(\"Number of Trotter steps\")\n",
    "plt.ylabel(\"Fidelity\")"
   ]
  },
  {
   "cell_type": "code",
   "execution_count": 13,
   "metadata": {},
   "outputs": [],
   "source": [
    "H = (str2op('XXIIII')\n",
    "     +str2op('IXXIII')\n",
    "    +str2op('IIXXII')\n",
    "    +str2op('IIIXXI')\n",
    "    +str2op('IIIIXX')\n",
    "    +str2op('YYIIII')\n",
    "    +str2op('IYYIII')\n",
    "    +str2op('IIYYII')\n",
    "    +str2op('IIIYYI')\n",
    "    +str2op('IIIIYY'))+Delta_ZZ*(\n",
    "    str2op('ZZIIII')\n",
    "    +str2op('IZZIII')\n",
    "    +str2op('IIZZII')\n",
    "    +str2op('IIIZZI')\n",
    "    +str2op('IIIIZZ')\n",
    "    )\n",
    "Psi_0 = qt.tensor([ket0]*N)\n",
    "H = H.full()\n",
    "Psi_0 = Psi_0.full()\n",
    "\n",
    "#adding extra gates at the start to initialize in a state other than |0>\n",
    "state_init = str2op('SHIIHI')\n",
    "state_init = state_init.full()\n",
    "U = scipy.linalg.expm(-1j * H * t)\n",
    "Psi_t = U @ state_init @ Psi_0"
   ]
  },
  {
   "cell_type": "code",
   "execution_count": 14,
   "metadata": {},
   "outputs": [],
   "source": [
    "n_trotter_steps = list(range(1, 30))\n",
    "StateVectors = []\n",
    "\n",
    "for h in n_trotter_steps:\n",
    "    ising_circuit = Circuit(N)\n",
    "    ising_circuit.S(0)\n",
    "    ising_circuit.H(1)\n",
    "    ising_circuit.H(4)\n",
    "    for i in range(h):\n",
    "        for ind in range(n_qubits-1):\n",
    "            circ_0.XXPhase(t*2/(2*np.pi*h), ind, ind+1)\n",
    "            circ_0.YYPhase(t*2/(2*np.pi*h), ind, ind+1)\n",
    "            circ_0.ZZPhase(Delta_ZZ*t*2/(h*np.pi), ind, ind+1)\n",
    "            circ_0.YYPhase(t*2/(2*np.pi*h), ind, ind+1)\n",
    "            circ_0.XXPhase(t*2/(2*np.pi*h), ind, ind+1)\n",
    "        #DecomposeBoxes().apply(circ_0)\n",
    "        # draw(circ_0)\n",
    "    sv_backend = AerStateBackend()\n",
    "    state = (ising_circuit)\n",
    "    result = sv_backend.run_circuit(state)\n",
    "    statevector = result.get_state()\n",
    "    StateVectors.append(statevector)\n"
   ]
  },
  {
   "cell_type": "code",
   "execution_count": 15,
   "metadata": {},
   "outputs": [
    {
     "data": {
      "text/plain": [
       "Text(0, 0.5, 'Fidelity')"
      ]
     },
     "execution_count": 15,
     "metadata": {},
     "output_type": "execute_result"
    },
    {
     "data": {
      "image/png": "[encoded data removed]",
      "text/plain": [
       "<Figure size 640x480 with 1 Axes>"
      ]
     },
     "metadata": {},
     "output_type": "display_data"
    }
   ],
   "source": [
    "distance = []\n",
    "for i in StateVectors:\n",
    "    dist = np.squeeze(Psi_t) @ np.conj(i).T\n",
    "    distance.append(np.abs(dist)**2)\n",
    "plt.loglog(n_trotter_steps, distance)\n",
    "plt.title(\"Trotterization for XXZ model - start from arbitrary state\")\n",
    "plt.xlabel(\"Number of Trotter steps\")\n",
    "plt.ylabel(\"Fidelity\")"
   ]
  },
  {
   "cell_type": "markdown",
   "metadata": {},
   "source": [
    "Unfortunately, due to the time constraint, we did not get enough time to investigate this further."
   ]
  },
  {
   "cell_type": "markdown",
   "metadata": {},
   "source": [
    "### <u> Task 4: Influence of noise </u>\n",
    "\n",
    "delete this if we dont have a successful implementation"
   ]
  },
  {
   "cell_type": "code",
   "execution_count": null,
   "metadata": {},
   "outputs": [],
   "source": []
  },
  {
   "cell_type": "markdown",
   "metadata": {},
   "source": [
    "### <u> Task 5: Other Hamiltonians </u>\n",
    "\n",
    "Here we implement two other hamiltonians. TODO"
   ]
  },
  {
   "cell_type": "code",
   "execution_count": null,
   "metadata": {},
   "outputs": [],
   "source": []
  },
  {
   "cell_type": "markdown",
   "metadata": {},
   "source": [
    "# Section 2: Simulating quantum systems\n",
    "### <u> Task 1: Energy conservation </u>"
   ]
  },
  {
   "cell_type": "markdown",
   "metadata": {},
   "source": [
    "First we check the energy of the hamiltonian for $|0\\rangle^{\\otimes N}$, and then check the energy by applying hadamard to only first qubit, and applying hadamard to first and second qubit."
   ]
  },
  {
   "cell_type": "code",
   "execution_count": 16,
   "metadata": {},
   "outputs": [
    {
     "name": "stdout",
     "output_type": "stream",
     "text": [
      "Energy: 6.999999999999999\n",
      "Energy with H applied to 0: 5.11384\n",
      "Energy with H applied to 0 and 1: 4.41976\n"
     ]
    }
   ],
   "source": [
    "n_qubits = 5\n",
    "n_shots = 1000\n",
    "Delta_ZZ = 1.72\n",
    "xxz_ham = get_xxz_chain_hamiltonian(n_qubits=n_qubits, Delta_ZZ=Delta_ZZ)\n",
    "\n",
    "initial_state_circtuit = Circuit(n_qubits=n_qubits, name=\"Initial state\")\n",
    "energy = get_operator_expectation_value(initial_state_circtuit, xxz_ham, aer_sim, n_shots=n_shots)\n",
    "print(\"Energy:\", energy.real)\n",
    "\n",
    "initial_state_circtuit.H(0)\n",
    "energy = get_operator_expectation_value(initial_state_circtuit, xxz_ham, aer_sim, n_shots=n_shots)\n",
    "print(\"Energy with H applied to 0:\", energy.real)\n",
    "\n",
    "initial_state_circtuit.H(1)\n",
    "energy = get_operator_expectation_value(initial_state_circtuit, xxz_ham, aer_sim, n_shots=n_shots)\n",
    "print(\"Energy with H applied to 0 and 1:\", energy.real)"
   ]
  },
  {
   "cell_type": "markdown",
   "metadata": {},
   "source": [
    "Now, we implement time evolution for different times specified in the prompt (and more). We plot the number of two qubit gates of the complied and uncomplied circuits while varying the time. We also comute the energy expectation at these points and plot, while keeping track of execution time. We do this for the ising chain hamiltonian."
   ]
  },
  {
   "cell_type": "code",
   "execution_count": null,
   "metadata": {},
   "outputs": [],
   "source": [
    "def get_ising_chain_hamiltonian(n_qubits: int, J: float, g: float) -> QubitPauliOperator:\n",
    "    sites = nx.path_graph(n_qubits)\n",
    "    qpo_dict = {}\n",
    "    for e in sites.edges:\n",
    "        zz_term = QubitPauliString([Qubit(e[0]), Qubit(e[1])], [Pauli.Z, Pauli.Z])\n",
    "        x_term = QubitPauliString([Qubit(e[0])], [Pauli.X])\n",
    "        qpo_dict[zz_term] = -J\n",
    "        qpo_dict[x_term] = g\n",
    "\n",
    "    return QubitPauliOperator(qpo_dict)\n",
    "\n",
    "t_max = 20\n",
    "n_shots = 100\n",
    "times = np.linspace(1, t_max, 21)\n",
    "trotter_step_size = 3\n",
    "n_qubits = 5\n",
    "J = 1.2\n",
    "g = 1.0\n",
    "\n",
    "qubit_gates_uncompiled = []\n",
    "qubit_gates_compiled = []\n",
    "time_compiled = []\n",
    "energies = []\n",
    "circs_compiled = []\n",
    "\n",
    "ising_ham = get_ising_chain_hamiltonian(n_qubits=n_qubits, J=J, g=g)\n",
    "for t in times:\n",
    "    n_steps = int(t//trotter_step_size)\n",
    "    t_rem = t - n_steps*trotter_step_size\n",
    "    time_evolution_circ = Circuit(n_qubits)\n",
    "    for ind in range(n_steps):\n",
    "        time_evolution_circ = gen_term_sequence_circuit(-(2*trotter_step_size/(np.pi))*ising_ham, time_evolution_circ)\n",
    "    time_evolution_circ = gen_term_sequence_circuit(-(2*t_rem/(np.pi))*ising_ham, time_evolution_circ)\n",
    "    DecomposeBoxes().apply(time_evolution_circ)\n",
    "    qubit_gates_uncompiled.append(time_evolution_circ.n_2qb_gates())\n",
    "    time_evolution_circ_compiled = aer_sim.get_compiled_circuit(time_evolution_circ, optimisation_level = 2)\n",
    "    circs_compiled.append(time_evolution_circ_compiled)\n",
    "    qubit_gates_compiled.append(time_evolution_circ_compiled.n_2qb_gates())\n",
    "    start = time.time()\n",
    "    energy = get_operator_expectation_value(time_evolution_circ_compiled, ising_ham, aer_sim, n_shots=n_shots)\n",
    "    end = time.time()\n",
    "    energies.append(energy.real)\n",
    "    time_compiled.append(end-start)"
   ]
  },
  {
   "cell_type": "code",
   "execution_count": null,
   "metadata": {},
   "outputs": [],
   "source": [
    "fig, axes = plt.subplots(2, 2, figsize=(10, 8))\n",
    "\n",
    "axes[0, 0].plot(times, qubit_gates_uncompiled, color=\"blue\")\n",
    "axes[0, 0].set_title(\"Number of 2 qubit gates in uncompiled circuit\")\n",
    "axes[0, 0].set_xlabel(\"Evolution time [s]\")\n",
    "axes[0, 0].set_ylabel(\"# of gates\")\n",
    "axes[0, 0].grid(True)\n",
    "\n",
    "axes[0, 1].plot(times, qubit_gates_compiled, color=\"red\")\n",
    "axes[0, 1].set_title(\"Number of 2 qubit gates in compiled circuit\")\n",
    "axes[0, 1].set_xlabel(\"Evolution time [s]\")\n",
    "axes[0, 1].set_ylabel(\"# of gates\")\n",
    "axes[0, 1].grid(True)\n",
    "\n",
    "axes[1, 0].plot(times, time_compiled, color=\"green\")\n",
    "axes[1, 0].set_title(\"Execution time\")\n",
    "axes[1, 0].set_xlabel(\"Evolution time [s]\")\n",
    "axes[1, 0].set_ylabel(\"Runtime [s]\")\n",
    "axes[1, 0].grid(True)\n",
    "\n",
    "axes[1, 1].plot(times, energies, color=\"purple\")\n",
    "axes[1, 1].set_title(\"Energy evolution in time\")\n",
    "axes[1, 1].set_xlabel(\"Evolution time [s]\")\n",
    "axes[1, 1].set_ylabel(\"Energy\")\n",
    "axes[1, 1].grid(True)\n",
    "\n",
    "plt.tight_layout()\n",
    "plt.show()"
   ]
  },
  {
   "cell_type": "markdown",
   "metadata": {},
   "source": [
    "### <u> Task 2: Influence of noise </u>\n",
    "todo\n"
   ]
  },
  {
   "cell_type": "markdown",
   "metadata": {},
   "source": [
    "### <u> Task 3: Hamiltonian system dynamics <u>"
   ]
  },
  {
   "cell_type": "markdown",
   "metadata": {},
   "source": [
    "Here, we do the same time evolution as before, measure $\\langle X_1 \\rangle$ and $\\langle X_1  X_2\\rangle$ at different points, and plot the results. As this hamiltonian also has terms with Pauli X, we do expect both of these observables to change the expectation value, which we can clearly observe below."
   ]
  },
  {
   "cell_type": "code",
   "execution_count": null,
   "metadata": {},
   "outputs": [],
   "source": [
    "x0s = []\n",
    "x0x1s = []\n",
    "for ind, t in enumerate(times):\n",
    "    x0op = QubitPauliOperator({QubitPauliString({Qubit(0): Pauli.X}): 1.0})\n",
    "    x0 = get_operator_expectation_value(circs_compiled[ind], x0op, aer_sim, n_shots=n_shots)\n",
    "    x0s.append(x0)\n",
    "\n",
    "    x0x1op = QubitPauliOperator({QubitPauliString({Qubit(0): Pauli.X, Qubit(1): Pauli.X}): 1.0})\n",
    "    x0x1 = get_operator_expectation_value(circs_compiled[ind], x0x1op, aer_sim, n_shots=n_shots)\n",
    "    x0x1s.append(x0x1)"
   ]
  },
  {
   "cell_type": "code",
   "execution_count": null,
   "metadata": {},
   "outputs": [],
   "source": [
    "fig, axes = plt.subplots(1, 2, figsize=(10, 8))\n",
    "\n",
    "axes[0].plot(times, x0s, color=\"blue\")\n",
    "axes[0].set_title(\"Qubit 0 X time evolution\")\n",
    "axes[0].set_xlabel(\"Evolution time [s]\")\n",
    "axes[0].set_ylabel(\"x_0\")\n",
    "axes[0].grid(True)\n",
    "\n",
    "axes[1].plot(times, x0x1s, color=\"red\")\n",
    "axes[1].set_title(\"Qubits 0, 1 X correlator time evolution\")\n",
    "axes[1].set_xlabel(\"Evolution time [s]\")\n",
    "axes[1].set_ylabel(\"x_0 x_1\")\n",
    "axes[1].grid(True)"
   ]
  },
  {
   "cell_type": "markdown",
   "metadata": {},
   "source": [
    "### <u> Task 4: Hamiltonian system dynamics </u>"
   ]
  },
  {
   "cell_type": "markdown",
   "metadata": {},
   "source": [
    "Here we work with a simple hamiltonian. \n",
    "$$ H = -1.2 Z_1Z_2 + X_1 + X_2$$\n",
    "\n",
    "We then diagonalize it numerically, compute two different eigenvectors $|a\\rangle$, $|b\\rangle$ and then using inbuilt functions, intialize our quantum circuit in the state $$|\\psi\\rangle = \\frac{|a\\rangle + |b\\rangle}{\\sqrt{2}}\\,.$$ Then we evolve this and compute plot the expectation value $\\langle \\psi| Z_1 | \\psi \\rangle$. \n",
    "\n",
    "We know that $Z_1$ have two outcomes, +1 and -1. The expectation value will be\n",
    "\n",
    "$$\\langle \\psi| Z_1 | \\psi \\rangle = p(+1)*(+1) + p(-1)*(-1) $$\n",
    "\n",
    "However, $p(+1)$ is just probability of first qubit being 0, and $p(-1)$ is just $1 - p(+1)$. Then we compute the $p(+1)$ emperically by just adding the modulus square of the first half entries of the state vectors, which all corrospond to first qubit being 0."
   ]
  },
  {
   "cell_type": "code",
   "execution_count": null,
   "metadata": {},
   "outputs": [],
   "source": [
    "from pytket.circuit import StatePreparationBox\n",
    "\n",
    "z0_expectation = []\n",
    "\n",
    "H = -J*(str2op('ZZ')) + g*(str2op('XI')+str2op('IX'))\n",
    "eigenvalues, eigenvectors = H.eigenstates()\n",
    "\n",
    "a = eigenvectors[0].full()\n",
    "b = eigenvectors[1].full()\n",
    "N=2\n",
    "\n",
    "for t in range(1, 10):\n",
    "    new_state = (a+b)/np.sqrt(2)\n",
    "    circuit = Circuit(2)\n",
    "    circuit.add_gate(StatePreparationBox(new_state), [0, 1])\n",
    "    for j in range(h):\n",
    "        for i in range(N):\n",
    "            circuit.Rx((2*t*g)/(2*h*np.pi), i)\n",
    "        for i in range(N-1):\n",
    "            circuit.ZZPhase((-2*J)/(np.pi*h), i, i+1)\n",
    "        circuit.add_barrier(circuit.qubits)\n",
    "        for i in range(N):\n",
    "            circuit.Rx((2*t*g)/(2*h*np.pi), i)\n",
    "        circuit.add_barrier(circuit.qubits)\n",
    "    #draw(circuit)   \n",
    "\n",
    "    sv_backend = AerStateBackend()\n",
    "    state = (circuit)\n",
    "    compiled_circuit = sv_backend.get_compiled_circuit(circuit) \n",
    "    result = sv_backend.run_circuit(compiled_circuit)\n",
    "    statevector = result.get_state()\n",
    "    p_of_plus1 = abs(statevector[0])**2 + abs(statevector[1])**2\n",
    "    p_of_minus1 = 1 - p_of_plus1\n",
    "    z0_expectation.append(p_of_plus1 - p_of_minus1)\n",
    "z0_expectation\n"
   ]
  },
  {
   "cell_type": "code",
   "execution_count": null,
   "metadata": {},
   "outputs": [],
   "source": [
    "plt.plot(range(1,10), z0_expectation, label='Data'); plt.xlabel('time'); plt.ylabel('$<Z_0>$'); plt.title('Expectation value of operator Z on qubit 1'); plt.legend(); plt.show()"
   ]
  },
  {
   "cell_type": "markdown",
   "metadata": {},
   "source": [
    "As expected, the expectation value osscilates between $[-1, +1]$. If we had higher energy, the oscillations would be faster. The norm of the hamiltonian will dictate this."
   ]
  },
  {
   "cell_type": "markdown",
   "metadata": {},
   "source": [
    "### Task 5: Time evolution of Ising model\n",
    "\n",
    "As discussed on the discord, due to XXZ hamiltonian being non-commuting type, we did implementation of the above tasks already for the ising model instead of XXZ, and hence we have finished this task."
   ]
  }
 ],
 "metadata": {
  "kernelspec": {
   "display_name": "Python [conda env:base] *",
   "language": "python",
   "name": "conda-base-py"
  },
  "language_info": {
   "codemirror_mode": {
    "name": "ipython",
    "version": 3
   },
   "file_extension": ".py",
   "mimetype": "text/x-python",
   "name": "python",
   "nbconvert_exporter": "python",
   "pygments_lexer": "ipython3",
   "version": "3.10.11"
  }
 },
 "nbformat": 4,
 "nbformat_minor": 4
}
