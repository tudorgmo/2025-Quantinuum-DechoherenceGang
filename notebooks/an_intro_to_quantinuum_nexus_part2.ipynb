{
 "cells": [
  {
   "cell_type": "markdown",
   "id": "e3bc06da-b184-4f6b-9991-7752d334a6dc",
   "metadata": {},
   "source": [
    "# (Part 2) - Running a small phase estimation circuit with the noisy emulator"
   ]
  },
  {
   "cell_type": "markdown",
   "id": "07968206-6e17-435c-a087-da2f25f1d891",
   "metadata": {},
   "source": [
    "## Initial setup"
   ]
  },
  {
   "cell_type": "code",
   "execution_count": null,
   "id": "af53a3ac-1b7c-415b-b3a6-6feed34d15ce",
   "metadata": {},
   "outputs": [],
   "source": [
    "from pytket.qasm import circuit_from_qasm\n",
    "from pytket.circuit.display import render_circuit_jupyter as draw\n",
    "\n",
    "qpe_circ = circuit_from_qasm(\"qasm/qpe_circ_2_5.qasm\")\n",
    "draw(qpe_circ)"
   ]
  },
  {
   "cell_type": "code",
   "execution_count": null,
   "id": "c309e6bf-d56a-4031-860d-928c16a030ee",
   "metadata": {},
   "outputs": [],
   "source": [
    "import qnexus as qnx\n",
    "import datetime\n",
    "\n",
    "\n",
    "project = qnx.projects.get_or_create(name=\"iQuHACK2025-demo\")\n",
    "qnx.context.set_active_project(project)\n",
    "\n",
    "\n",
    "jobname_suffix = datetime.datetime.now().strftime(\"%Y_%m_%d-%H-%M-%S\")"
   ]
  },
  {
   "cell_type": "code",
   "execution_count": 3,
   "id": "e7f4c22c-316c-4701-bd0b-319e126c5c29",
   "metadata": {},
   "outputs": [],
   "source": [
    "qpe_ref = qnx.circuits.upload(circuit=qpe_circ, name=f\"qpe_circuit-{jobname_suffix}\")\n",
    "\n",
    "config = qnx.QuantinuumConfig(device_name=\"H1-Emulator\")"
   ]
  },
  {
   "cell_type": "markdown",
   "id": "5596b048-a1f3-45c9-aadd-0a3bf8da049c",
   "metadata": {},
   "source": [
    "## Compile and run (Optimisation level 0)"
   ]
  },
  {
   "cell_type": "code",
   "execution_count": 4,
   "id": "0d7525e3-ef98-4317-a222-55d3d0423851",
   "metadata": {},
   "outputs": [],
   "source": [
    "ref_qpe_compile_job0 = qnx.start_compile_job(\n",
    "    circuits=[qpe_ref],\n",
    "    backend_config=config,\n",
    "    optimisation_level=0,\n",
    "    name=f\"compilation-job-opt0-{jobname_suffix}\"\n",
    ")"
   ]
  },
  {
   "cell_type": "code",
   "execution_count": 5,
   "id": "21cf286d-fa29-4b2d-8c39-0bd05d4d353c",
   "metadata": {},
   "outputs": [],
   "source": [
    "qnx.jobs.wait_for(ref_qpe_compile_job0)\n",
    "ref_compiled_circuit0 = qnx.jobs.results(ref_qpe_compile_job0)[0].get_output()"
   ]
  },
  {
   "cell_type": "code",
   "execution_count": 6,
   "id": "ef32b4f3-cbfb-48d9-8ff9-98f2dad3aef8",
   "metadata": {},
   "outputs": [],
   "source": [
    "ref_qpe_execute_job0 = qnx.start_execute_job(\n",
    "    circuits=[ref_compiled_circuit0],\n",
    "    n_shots=[500],\n",
    "    backend_config=config,\n",
    "    name=f\"execution-job-opt0-{jobname_suffix}\"\n",
    ")"
   ]
  },
  {
   "cell_type": "markdown",
   "id": "68d6904a-85f7-42f0-a2f7-c9e58f0a113e",
   "metadata": {},
   "source": [
    "## Compile and run (Optimisation level 3)"
   ]
  },
  {
   "cell_type": "code",
   "execution_count": 7,
   "id": "1bbe6391-a269-48b9-82fe-e87e94639cd0",
   "metadata": {},
   "outputs": [],
   "source": [
    "ref_qpe_compile_job3 = qnx.start_compile_job(\n",
    "    circuits=[qpe_ref],\n",
    "    backend_config=config,\n",
    "    optimisation_level=3,\n",
    "    name=f\"compilation-job_opt3-{jobname_suffix}\"\n",
    ")"
   ]
  },
  {
   "cell_type": "code",
   "execution_count": 8,
   "id": "180a2865-124f-4828-b7a8-04586f748677",
   "metadata": {},
   "outputs": [],
   "source": [
    "qnx.jobs.wait_for(ref_qpe_compile_job3)\n",
    "ref_compiled_circuit3 = qnx.jobs.results(ref_qpe_compile_job3)[0].get_output()"
   ]
  },
  {
   "cell_type": "code",
   "execution_count": 9,
   "id": "61d34176-4b0d-4011-97b1-c58dbd54a573",
   "metadata": {},
   "outputs": [],
   "source": [
    "ref_qpe_execute_job3 = qnx.start_execute_job(\n",
    "    circuits=[ref_compiled_circuit3],\n",
    "    n_shots=[500],\n",
    "    backend_config=config,\n",
    "    name=f\"execution-job-opt3-{jobname_suffix}\"\n",
    ")"
   ]
  },
  {
   "cell_type": "code",
   "execution_count": null,
   "id": "a8eb6ab3-eb47-4147-a336-fa3f03e7bd9b",
   "metadata": {},
   "outputs": [],
   "source": []
  }
 ],
 "metadata": {
  "kernelspec": {
   "display_name": "Python [conda env:base] *",
   "language": "python",
   "name": "conda-base-py"
  },
  "language_info": {
   "codemirror_mode": {
    "name": "ipython",
    "version": 3
   },
   "file_extension": ".py",
   "mimetype": "text/x-python",
   "name": "python",
   "nbconvert_exporter": "python",
   "pygments_lexer": "ipython3",
   "version": "3.10.11"
  }
 },
 "nbformat": 4,
 "nbformat_minor": 5
}
